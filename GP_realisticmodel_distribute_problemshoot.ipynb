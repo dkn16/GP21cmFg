{
 "cells": [
  {
   "cell_type": "code",
   "execution_count": 1,
   "id": "e008ee39",
   "metadata": {},
   "outputs": [
    {
     "name": "stderr",
     "output_type": "stream",
     "text": [
      "2022-12-26 10:10:19.610425: W tensorflow/compiler/xla/stream_executor/platform/default/dso_loader.cc:64] Could not load dynamic library 'libnvinfer.so.7'; dlerror: libnvinfer.so.7: cannot open shared object file: No such file or directory; LD_LIBRARY_PATH: /usr/lib64:/work/dkn16/jax-env/lib:/home/dkn16/.local/lib/python3.7/site-packages:/usr/lib64:/work/dkn16/jax-env/lib:/home/dkn16/.local/lib/python3.7/site-packages:/opt/gsl/2.6/lib\n",
      "2022-12-26 10:10:19.610804: W tensorflow/compiler/xla/stream_executor/platform/default/dso_loader.cc:64] Could not load dynamic library 'libnvinfer_plugin.so.7'; dlerror: libnvinfer_plugin.so.7: cannot open shared object file: No such file or directory; LD_LIBRARY_PATH: /usr/lib64:/work/dkn16/jax-env/lib:/home/dkn16/.local/lib/python3.7/site-packages:/usr/lib64:/work/dkn16/jax-env/lib:/home/dkn16/.local/lib/python3.7/site-packages:/opt/gsl/2.6/lib\n",
      "2022-12-26 10:10:19.610810: W tensorflow/compiler/tf2tensorrt/utils/py_utils.cc:38] TF-TRT Warning: Cannot dlopen some TensorRT libraries. If you would like to use Nvidia GPU with TensorRT, please make sure the missing libraries mentioned above are installed properly.\n"
     ]
    }
   ],
   "source": [
    "import functools\n",
    "import os\n",
    "os.environ['NCCL_DEBUG']='INFO'\n",
    "#os.environ['TF_NCCL_VERSION']='2.13.4'\n",
    "import collections\n",
    "import contextlib\n",
    "from jax.config import config\n",
    "config.update(\"jax_enable_x64\", True)\n",
    "import jax\n",
    "import jax.numpy as jnp\n",
    "from jax import lax\n",
    "from jax import random\n",
    "import tensorflow as tf\n",
    "tf.config.experimental.set_visible_devices([], \"GPU\")\n",
    "import numpy as np\n",
    "import matplotlib.pyplot as plt\n",
    "import pandas as pd\n",
    "#from tensorflow_probability.substrates.jax.internal.dtype_util\n",
    "from tensorflow_probability.substrates import jax as tfp\n",
    "import jax.profiler\n",
    "\n",
    "tfd = tfp.distributions\n",
    "tfb = tfp.bijectors\n",
    "tfm = tfp.mcmc\n",
    "tfed = tfp.experimental.distribute\n",
    "tfde = tfp.experimental.distributions\n",
    "tfem = tfp.experimental.mcmc\n",
    "\n",
    "Root = tfed.JointDistributionCoroutine.Root\n",
    "import pandas as pd\n",
    "data = pd.read_pickle('/home/dkn16/data.pkl')\n",
    "FGnopol = data.beam.foregrounds.all_nopol\n",
    "FGpol = data.beam.foregrounds.pleak\n",
    "HI = data.beam.HI\n",
    "noise = data.beam.noise\n",
    "freqs = data.freqs\n",
    "#matplotlib.use(\"Agg\")  # noqa: E402"
   ]
  },
  {
   "cell_type": "code",
   "execution_count": 2,
   "id": "b6a519d1",
   "metadata": {},
   "outputs": [
    {
     "name": "stdout",
     "output_type": "stream",
     "text": [
      "[StreamExecutorGpuDevice(id=0, process_index=0), StreamExecutorGpuDevice(id=1, process_index=0), StreamExecutorGpuDevice(id=2, process_index=0), StreamExecutorGpuDevice(id=3, process_index=0)]\n"
     ]
    }
   ],
   "source": [
    "print(jax.devices())"
   ]
  },
  {
   "cell_type": "code",
   "execution_count": 3,
   "id": "71b05b50",
   "metadata": {},
   "outputs": [],
   "source": [
    "\n",
    "# create artificial regression dataset\n",
    "def get_data(dim,pol=False,x0=0,y0=0,freqs = 285):\n",
    "    #idx=np.random.randint(1,6)\n",
    "    #loc_idx=np.random.randint(48)\n",
    "    \n",
    "    #foreground\n",
    "    if pol:\n",
    "        sky = jnp.array(FGnopol+FGpol)[x0:x0+dim,y0:y0+dim,0:freqs].astype(jnp.float64)\n",
    "    else:\n",
    "        sky = jnp.array(FGnopol)[x0:x0+dim,y0:y0+dim,0:freqs].astype(jnp.float64)\n",
    "    \n",
    "    #HI signal\n",
    "    cosmos = jnp.array(HI+noise)[x0:x0+dim,y0:y0+dim,0:freqs].astype(jnp.float64)\n",
    "    \n",
    "    sky = sky - jnp.mean(sky,axis=(0,1))\n",
    "    cosmos = cosmos - jnp.mean(cosmos,axis=(0,1))\n",
    "    \n",
    "    sky=sky.reshape((dim*dim,freqs))/1000\n",
    "    cosmos=cosmos.reshape((dim*dim,freqs))/1000\n",
    "    \n",
    "    np.random.seed(0)\n",
    "    X = jnp.linspace(0., 1., sky.shape[1]).astype(jnp.float64)#,dtype = jnp.float64)\n",
    "    #Y = X + 0.2 * jnp.power(X, 3.0) + 0.5 * jnp.power(0.5 + X, 2.0) * jnp.sin(4.0 * X)\n",
    "    #Y += sigma_obs * np.random.randn(N)\n",
    "    #Y -= jnp.mean(Y)\n",
    "    #Y /= jnp.std(Y)\n",
    "\n",
    "    #assert X.shape == (N,)\n",
    "    #assert Y.shape == (N,)\n",
    "\n",
    "    X_test = jnp.linspace(0., 1.,sky.shape[1]).astype(jnp.float64)#,dtype = jnp.float64)\n",
    "\n",
    "    return X, sky+cosmos, X_test"
   ]
  },
  {
   "cell_type": "code",
   "execution_count": 11,
   "id": "028c503a",
   "metadata": {},
   "outputs": [
    {
     "data": {
      "text/plain": [
       "(4, 16900, 258)"
      ]
     },
     "execution_count": 11,
     "metadata": {},
     "output_type": "execute_result"
    }
   ],
   "source": [
    "def shard_value(x):\n",
    "    x = x.reshape((jax.device_count(), -1, *x.shape[1:]))\n",
    "    return jax.pmap(lambda x: x)(x) # pmap will physically place values on devices\n",
    "\n",
    "shard = functools.partial(jax.tree_map, shard_value)\n",
    "X, Y, X_test = get_data(256,pol=True,freqs=258)\n",
    "Y=jnp.ones((260*260,258),dtype=jnp.float64)\n",
    "Y = shard(Y)\n",
    "Y.shape"
   ]
  },
  {
   "cell_type": "code",
   "execution_count": 7,
   "id": "5cb569aa",
   "metadata": {},
   "outputs": [],
   "source": [
    "#This is 'one parameter for all'\n",
    "\n",
    "from jax.experimental.host_callback import call\n",
    "dtype = jnp.float64\n",
    "#@jax.default_matmul_precision('float32')\n",
    "@functools.partial(jax.pmap, axis_name='data', in_axes=(None, None,0), out_axes=(None,None))\n",
    "def run(seed, X, data):\n",
    "    #data = Y # a sharded dataset\n",
    "    num_examples, dim = data.shape\n",
    "    # this is our model \n",
    "    \n",
    "    def model_fn():\n",
    "        k= yield Root(tfd.Sample(tfd.HalfNormal(dtype(2.)), 1))\n",
    "        k = k*jnp.eye(dim)\n",
    "        #yield tfed.Sharded(tfd.MultivariateNormalFullCovariance(loc = jnp.zeros(dim,dtype=jnp.float64),covariance_matrix = k),\n",
    "        #                   shard_axis_name='data')\n",
    "        yield tfed.Sharded(tfd.Independent(tfd.MultivariateNormalFullCovariance(loc = jnp.zeros((num_examples,dim),dtype=jnp.float64),covariance_matrix = k),1),\n",
    "                           shard_axis_name='data')\n",
    "    model = tfed.JointDistributionCoroutine(model_fn)\n",
    "    #print('yes')\n",
    "    init_seed, sample_seed = random.split(seed)\n",
    "\n",
    "    initial_state = model.sample(seed=init_seed)[:-1] # throw away `y`\n",
    "    print(initial_state)\n",
    "\n",
    "    def target_log_prob(*state):\n",
    "        return model.log_prob((*state, data))\n",
    "    print(target_log_prob(*initial_state))\n",
    "    kernel = tfm.NoUTurnSampler(target_log_prob, 1e-2,max_tree_depth=8)\n",
    "    kernel = tfm.DualAveragingStepSizeAdaptation(kernel,800,target_accept_prob=0.8)\n",
    "    def trace_fn(state, pkr):\n",
    "        log_prob = target_log_prob(*state)\n",
    "        call(lambda x: print(f\"step: {x[0]},leap_frogs: {x[1]},step_size: {x[2]:.2g},accept_ratio:{x[3]:.3f},log_prob:{x[4]:.2f} \\n \"), (pkr.step,pkr.inner_results.leapfrogs_taken,pkr.new_step_size,10**pkr.inner_results.log_accept_ratio,log_prob))\n",
    "        #call(lambda x: print(f\"leap_frogs: {x}\"), pkr.inner_results.leapfrogs_taken)\n",
    "        #call(lambda x: print(f\"step_size: {x}\"), pkr.new_step_size)\n",
    "        \n",
    "        return (\n",
    "            log_prob,\n",
    "            pkr.inner_results.has_divergence,\n",
    "            10**pkr.inner_results.log_accept_ratio,\n",
    "            #accuracy(*state),\n",
    "            pkr.new_step_size,\n",
    "        )\n",
    "    states,traces = tfm.sample_chain(\n",
    "            num_results=20,\n",
    "            #num_burnin_steps=1000,\n",
    "            current_state=initial_state,\n",
    "            kernel=kernel,\n",
    "            trace_fn=trace_fn,\n",
    "            seed=sample_seed,\n",
    "        )\n",
    "    return states, traces"
   ]
  },
  {
   "cell_type": "code",
   "execution_count": 6,
   "id": "a7daea97",
   "metadata": {},
   "outputs": [],
   "source": [
    "@functools.partial(jax.pmap, axis_name='data', in_axes=(None, None,0), out_axes=(0))\n",
    "def run(seed, X, data):\n",
    "    data=data*X\n",
    "    \n",
    "    \n",
    "    return data"
   ]
  },
  {
   "cell_type": "code",
   "execution_count": null,
   "id": "0bd5210c",
   "metadata": {},
   "outputs": [
    {
     "name": "stdout",
     "output_type": "stream",
     "text": [
      "StructTuple(\n",
      "  var0=Traced<ShapedArray(float64[1])>with<DynamicJaxprTrace(level=0/1)>\n",
      ")\n",
      "Traced<ShapedArray(float64[])>with<DynamicJaxprTrace(level=0/1)>\n"
     ]
    },
    {
     "name": "stderr",
     "output_type": "stream",
     "text": [
      "2022-12-26 10:11:54.971361: E external/org_tensorflow/tensorflow/compiler/xla/stream_executor/cuda/cuda_driver.cc:752] failed to free device memory at 0x14695a34ac00; result: CUDA_ERROR_ILLEGAL_ADDRESS: an illegal memory access was encountered\n",
      "2022-12-26 10:11:54.971389: E external/org_tensorflow/tensorflow/compiler/xla/stream_executor/cuda/cuda_driver.cc:752] failed to free device memory at 0x14695a2a3a00; result: CUDA_ERROR_ILLEGAL_ADDRESS: an illegal memory access was encountered\n",
      "2022-12-26 10:11:54.971393: E external/org_tensorflow/tensorflow/compiler/xla/stream_executor/cuda/cuda_driver.cc:752] failed to free device memory at 0x14695a34ae00; result: CUDA_ERROR_ILLEGAL_ADDRESS: an illegal memory access was encountered\n",
      "2022-12-26 10:11:54.971395: E external/org_tensorflow/tensorflow/compiler/xla/stream_executor/cuda/cuda_driver.cc:752] failed to free device memory at 0x14695a2a3c00; result: CUDA_ERROR_ILLEGAL_ADDRESS: an illegal memory access was encountered\n",
      "2022-12-26 10:11:54.971398: E external/org_tensorflow/tensorflow/compiler/xla/stream_executor/cuda/cuda_driver.cc:752] failed to free device memory at 0x14695a2a3e00; result: CUDA_ERROR_ILLEGAL_ADDRESS: an illegal memory access was encountered\n",
      "2022-12-26 10:11:54.971410: E external/org_tensorflow/tensorflow/compiler/xla/pjrt/pjrt_stream_executor_client.cc:2153] Execution of replica 0 failed: INTERNAL: Unable to launch triangular solve\n"
     ]
    }
   ],
   "source": [
    "%%time\n",
    "states = run(random.PRNGKey(42),X,Y)\n",
    "#states[0].block_until_ready()\n",
    "#jax.profiler.save_device_memory_profile(\"memory.prof\")\n",
    "#jnp.save('states.npy',states)"
   ]
  },
  {
   "cell_type": "code",
   "execution_count": 9,
   "id": "f8683bd8",
   "metadata": {},
   "outputs": [
    {
     "ename": "AttributeError",
     "evalue": "'CompiledFunction' object has no attribute 'shape'",
     "output_type": "error",
     "traceback": [
      "\u001b[0;31m---------------------------------------------------------------------------\u001b[0m",
      "\u001b[0;31mAttributeError\u001b[0m                            Traceback (most recent call last)",
      "\u001b[0;32m/var/tmp/pbs.91506.metis/ipykernel_965629/2382324141.py\u001b[0m in \u001b[0;36m<module>\u001b[0;34m\u001b[0m\n\u001b[0;32m----> 1\u001b[0;31m \u001b[0mstates\u001b[0m\u001b[0;34m.\u001b[0m\u001b[0mtrace\u001b[0m\u001b[0;34m.\u001b[0m\u001b[0mshape\u001b[0m\u001b[0;34m\u001b[0m\u001b[0;34m\u001b[0m\u001b[0m\n\u001b[0m",
      "\u001b[0;31mAttributeError\u001b[0m: 'CompiledFunction' object has no attribute 'shape'"
     ]
    }
   ],
   "source": []
  },
  {
   "cell_type": "code",
   "execution_count": null,
   "id": "94f7fe78",
   "metadata": {},
   "outputs": [],
   "source": [
    "states = jnp.load('states.npy')\n",
    "states[0][0]\n",
    "# squared exponential kernel with diagonal noise term\n",
    "def kernel(X, Z, var, length, noise, jitter=1.0e-12,is_noise=True):\n",
    "    deltaXsq = jnp.power((X[:, None] - Z) / length, 2.0)\n",
    "    k = 10*var * jnp.exp(-0.5 * deltaXsq)\n",
    "    #k = var * jnp.exp(-0.5 * deltaXsq)\n",
    "    if is_noise:\n",
    "        k += (noise*noise*1.0e-10 + jitter) * jnp.eye(X.shape[0])\n",
    "    return k\n",
    "\n",
    "def predict(rng_key, X, Y, X_test, var, length, noise):\n",
    "    # compute kernels between train and test data, etc.\n",
    "    k_pp = kernel(X_test, X_test, var, length, noise,is_noise=False)\n",
    "    k_pX = kernel(X_test, X, var, length, noise,is_noise=False)\n",
    "    k_XX = kernel(X, X, var, length, noise,is_noise=True)\n",
    "    K_xx_inv = jnp.linalg.inv(k_XX)\n",
    "    K = k_pp - jnp.matmul(k_pX, jnp.matmul(K_xx_inv, jnp.transpose(k_pX)))\n",
    "    #sigma_noise = jnp.sqrt(jnp.clip(jnp.diag(K), a_min=0.0)) * jax.random.normal(\n",
    "    #    rng_key, X_test.shape[:1]\n",
    "    #)\n",
    "    mean = jnp.matmul(k_pX, jnp.matmul(K_xx_inv, Y.T)).T\n",
    "    # we return both the mean function and a sample from the posterior predictive for the\n",
    "    # given set of hyperparameters\n",
    "    return mean#, mean + sigma_noise\n",
    "vmap_args = (\n",
    "    random.split(random.PRNGKey(3), 50),\n",
    "    states[0][950:1000,0],\n",
    "    states[2][950:1000,0],\n",
    "    states[1][950:1000,0],\n",
    ")\n",
    "means = jax.vmap(\n",
    "    lambda rng_key, var, length, noise: predict(\n",
    "        rng_key, X, Y.reshape((-1,150)), X, var, length, noise\n",
    "    )\n",
    ")(*vmap_args)\n",
    "\n",
    "mean_prediction = np.mean(means, axis=0)\n",
    "percentiles = np.percentile(means, [5.0, 95.0], axis=0)"
   ]
  },
  {
   "cell_type": "code",
   "execution_count": null,
   "id": "61f21e04",
   "metadata": {},
   "outputs": [],
   "source": [
    "Y1=Y.reshape((-1,150))\n",
    "plt.fill_between(X, percentiles[0, 100,:], percentiles[1, 100,:], color=\"lightblue\")\n",
    "plt.scatter(X,Y1[100])\n",
    "plt.plot(X,mean_prediction[100])\n"
   ]
  },
  {
   "cell_type": "code",
   "execution_count": null,
   "id": "6a27c1cd",
   "metadata": {},
   "outputs": [],
   "source": []
  },
  {
   "cell_type": "code",
   "execution_count": null,
   "id": "165ea9ec",
   "metadata": {},
   "outputs": [],
   "source": [
    "cosmos=jnp.load(f'/work/dante/data/fg_rm_data/train_data/data_3/cosmos/HI_idx_1_loc_0.npy').astype(jnp.float64).transpose(2,1,0)\n",
    "    \n",
    "cosmos = cosmos - jnp.mean(cosmos,axis=(0,1))\n",
    "cosmos = cosmos.reshape(256*256,150)"
   ]
  },
  {
   "cell_type": "code",
   "execution_count": null,
   "id": "00d12a2b",
   "metadata": {},
   "outputs": [],
   "source": [
    "i=13550\n",
    "plt.plot(X,Y1[i]-mean_prediction[i])\n",
    "\n",
    "plt.plot(X,cosmos[i]/10000)\n",
    "plt.fill_between(X_test,Y1[i]-percentiles[0, i,:], Y1[i]-percentiles[1, i,:], color=\"lightblue\")\n",
    "plt.legend(['GPR','True'])"
   ]
  },
  {
   "cell_type": "code",
   "execution_count": null,
   "id": "f002d20c",
   "metadata": {},
   "outputs": [],
   "source": [
    "i=20\n",
    "plt.figure(figsize=(6,7),dpi=200)\n",
    "plt.subplot(2,2,1)\n",
    "plt.imshow(mean_prediction[:,i].reshape(256,256))\n",
    "plt.title('recovered fg')\n",
    "plt.subplot(2,2,2)\n",
    "plt.imshow(Y1[:,i].reshape(256,256))\n",
    "plt.title('true fg')\n",
    "plt.subplot(2,2,3)\n",
    "plt.imshow((Y1[:,i]-mean_prediction[:,i]).reshape(256,256)*10000,vmin=-0.5,vmax=1.4)\n",
    "plt.title('recovered signal')\n",
    "plt.colorbar()\n",
    "plt.subplot(2,2,4)\n",
    "plt.imshow(cosmos[:,i].reshape(256,256),vmin=-0.5,vmax=1.4)\n",
    "plt.title('true signal')\n",
    "plt.colorbar()"
   ]
  },
  {
   "cell_type": "code",
   "execution_count": null,
   "id": "65a3dfe6",
   "metadata": {},
   "outputs": [],
   "source": [
    "k1 = kernel(X, X,  0.052016747, 0.23297304, 1.81647456)\n",
    "k2 = kernel(X, X,  1.52016747, 0.23297304, 1.81647456)\n",
    "k3 = kernel(X, X,  0.52016747, 0.23297304, 1.81647456)\n",
    "k4 = kernel(X, X,  0.52016747, 0.03297304, 1.81647456)\n",
    "rng_key, rng_key_predict = random.split(random.PRNGKey(4))\n",
    "samp = numpyro.sample(\n",
    "        \"Y\",\n",
    "        dist.MultivariateNormal(loc=jnp.zeros((2,2,X.shape[0])), covariance_matrix=[[k1,k2],[k3,k4]]),\n",
    "        #obs=Y,\n",
    "        rng_key= rng_key,sample_shape=(8,)\n",
    "    )\n",
    "for i in range(8):\n",
    "    plt.plot(X,samp[i][0][0]+15,c='tab:blue')\n",
    "    plt.plot(X,samp[i][1][0]+5,c='tab:orange')\n",
    "    plt.plot(X,samp[i][0][1]-5,c='tab:red')\n",
    "    plt.plot(X,samp[i][1][1]-15,c='tab:green')"
   ]
  },
  {
   "cell_type": "code",
   "execution_count": null,
   "id": "270dcedd",
   "metadata": {},
   "outputs": [],
   "source": [
    "numpyro.sample(\"kernel_var\", dist.InverseGamma(10,2),rng_key= rng_key,sample_shape=(16,))"
   ]
  },
  {
   "cell_type": "code",
   "execution_count": null,
   "id": "65cd9942",
   "metadata": {},
   "outputs": [],
   "source": [
    "percentiles.shape"
   ]
  },
  {
   "cell_type": "code",
   "execution_count": null,
   "id": "58b1814e",
   "metadata": {},
   "outputs": [],
   "source": [
    "Y.shape"
   ]
  },
  {
   "cell_type": "code",
   "execution_count": null,
   "id": "621f9a9e",
   "metadata": {},
   "outputs": [],
   "source": [
    "k = kernel(X, X, 0.52016747, 0.23297304, 1.81647456)\n",
    "jnp.mean(dist.MultivariateNormal(loc=jnp.zeros(X.shape[0]), covariance_matrix=k).log_prob(Y))"
   ]
  },
  {
   "cell_type": "code",
   "execution_count": null,
   "id": "7319fd62",
   "metadata": {},
   "outputs": [],
   "source": [
    "samples"
   ]
  },
  {
   "cell_type": "code",
   "execution_count": null,
   "id": "27284b8e",
   "metadata": {},
   "outputs": [],
   "source": [
    "import corner\n",
    "data = np.vstack([samples['kernel_length'],samples['kernel_var'],samples['kernel_noise']]).T\n",
    "corner.corner(data,labels=[\n",
    "        r\"$length\\times 10$\",\n",
    "        r\"$var$\",\n",
    "        r\"$noise\\times 10^{-5}$\",\n",
    "    ],quantiles=[0.16, 0.5, 0.84],show_titles=True)"
   ]
  },
  {
   "cell_type": "code",
   "execution_count": null,
   "id": "460227a2",
   "metadata": {},
   "outputs": [],
   "source": [
    "samp.shape"
   ]
  },
  {
   "cell_type": "code",
   "execution_count": null,
   "id": "03be60b9",
   "metadata": {},
   "outputs": [],
   "source": [
    "Y.shape"
   ]
  },
  {
   "cell_type": "code",
   "execution_count": 1,
   "id": "c7417688",
   "metadata": {},
   "outputs": [
    {
     "name": "stdout",
     "output_type": "stream",
     "text": [
      "gpu\n"
     ]
    }
   ],
   "source": []
  },
  {
   "cell_type": "code",
   "execution_count": null,
   "id": "741f2e17",
   "metadata": {},
   "outputs": [],
   "source": []
  }
 ],
 "metadata": {
  "kernelspec": {
   "display_name": "jax",
   "language": "python",
   "name": "base"
  },
  "language_info": {
   "codemirror_mode": {
    "name": "ipython",
    "version": 3
   },
   "file_extension": ".py",
   "mimetype": "text/x-python",
   "name": "python",
   "nbconvert_exporter": "python",
   "pygments_lexer": "ipython3",
   "version": "3.7.6"
  }
 },
 "nbformat": 4,
 "nbformat_minor": 5
}
